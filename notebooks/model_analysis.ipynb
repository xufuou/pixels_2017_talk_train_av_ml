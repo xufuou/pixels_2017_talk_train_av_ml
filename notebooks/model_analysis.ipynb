{
 "cells": [
  {
   "cell_type": "code",
   "execution_count": 2,
   "metadata": {
    "collapsed": true
   },
   "outputs": [],
   "source": [
    "import pandas as pd\n",
    "import numpy as np\n",
    "import matplotlib.pyplot as plt\n",
    "from sklearn.ensemble import ExtraTreesClassifier\n",
    "from sklearn.feature_selection import SelectFromModel\n",
    "from sklearn.tree import DecisionTreeClassifier\n",
    "from sklearn.ensemble import RandomForestClassifier, GradientBoostingClassifier, AdaBoostClassifier\n",
    "from sklearn.naive_bayes import GaussianNB\n",
    "from sklearn.model_selection import train_test_split"
   ]
  },
  {
   "cell_type": "code",
   "execution_count": 4,
   "metadata": {},
   "outputs": [],
   "source": [
    "data_original = pd.read_csv('../data.csv', sep='|')\n",
    "dasmalwerk = pd.read_csv('../dasmalwerk_data.csv', sep='|')\n",
    "frames = [data_original, dasmalwerk]\n",
    "result = pd.concat(frames)"
   ]
  },
  {
   "cell_type": "code",
   "execution_count": 6,
   "metadata": {},
   "outputs": [
    {
     "name": "stdout",
     "output_type": "stream",
     "text": [
      "1. feature DllCharacteristics (0.191842)\n",
      "2. feature Machine (0.144488)\n",
      "3. feature Characteristics (0.106757)\n",
      "4. feature Subsystem (0.055404)\n",
      "5. feature ResourcesMinEntropy (0.054552)\n",
      "6. feature SectionsMinEntropy (0.050408)\n",
      "7. feature VersionInformationSize (0.048475)\n",
      "8. feature ResourcesMaxEntropy (0.043858)\n",
      "9. feature ImageBase (0.036713)\n",
      "10. feature MajorSubsystemVersion (0.030514)\n",
      "11. feature SizeOfOptionalHeader (0.028957)\n",
      "12. feature SectionsMaxEntropy (0.026164)\n"
     ]
    }
   ],
   "source": [
    "#separate labels\n",
    "X = result.drop(['Name', 'md5', 'legitimate'], axis=1).values\n",
    "y = result['legitimate'].values\n",
    "\n",
    "#feature reduction\n",
    "fsel = ExtraTreesClassifier().fit(X, y)\n",
    "model = SelectFromModel(fsel, prefit=True)\n",
    "\n",
    "X_new = model.transform(X)\n",
    "nb_features = X_new.shape[1]\n",
    "indices = np.argsort(fsel.feature_importances_)[::-1][:nb_features]\n",
    "for f in range(nb_features):\n",
    "    print(\"%d. feature %s (%f)\" % (f + 1, result.columns[2+indices[f]], fsel.feature_importances_[indices[f]]))"
   ]
  },
  {
   "cell_type": "code",
   "execution_count": 7,
   "metadata": {
    "collapsed": true
   },
   "outputs": [],
   "source": [
    "algorithms = {\n",
    "        \"DecisionTree\": DecisionTreeClassifier(max_depth=10),\n",
    "        \"RandomForest\": RandomForestClassifier(n_estimators=50),\n",
    "        \"GradientBoosting\": GradientBoostingClassifier(n_estimators=50),\n",
    "        \"AdaBoost\": AdaBoostClassifier(n_estimators=100),\n",
    "        \"GNB\": GaussianNB()\n",
    "    }"
   ]
  },
  {
   "cell_type": "code",
   "execution_count": 8,
   "metadata": {},
   "outputs": [
    {
     "name": "stdout",
     "output_type": "stream",
     "text": [
      "\n",
      "Now testing algorithms\n",
      "GNB : 76.213201 %\n",
      "DecisionTree : 98.893169 %\n",
      "RandomForest : 99.310028 %\n",
      "AdaBoost : 98.470561 %\n",
      "GradientBoosting : 98.804048 %\n",
      "\n",
      "Winner algorithm is RandomForest with a 99.310028 % success\n"
     ]
    }
   ],
   "source": [
    "results = {}\n",
    "X_train, X_test, y_train, y_test = train_test_split(X_new, y ,test_size=0.25)\n",
    "print(\"\\nNow testing algorithms\")\n",
    "for algo in algorithms:\n",
    "    clf = algorithms[algo]\n",
    "    clf.fit(X_train, y_train)\n",
    "    score = clf.score(X_test, y_test)\n",
    "    print(\"%s : %f %%\" % (algo, score*100))\n",
    "    results[algo] = score\n",
    "\n",
    "winner = max(results, key=results.get)\n",
    "print('\\nWinner algorithm is %s with a %f %% success' % (winner, results[winner]*100))"
   ]
  },
  {
   "cell_type": "code",
   "execution_count": null,
   "metadata": {
    "collapsed": true
   },
   "outputs": [],
   "source": []
  }
 ],
 "metadata": {
  "kernelspec": {
   "display_name": "Python 2",
   "language": "python",
   "name": "python2"
  },
  "language_info": {
   "codemirror_mode": {
    "name": "ipython",
    "version": 2
   },
   "file_extension": ".py",
   "mimetype": "text/x-python",
   "name": "python",
   "nbconvert_exporter": "python",
   "pygments_lexer": "ipython2",
   "version": "2.7.12"
  }
 },
 "nbformat": 4,
 "nbformat_minor": 2
}
