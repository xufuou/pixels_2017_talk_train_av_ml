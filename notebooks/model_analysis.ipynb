{
 "cells": [
  {
   "cell_type": "code",
   "execution_count": 33,
   "metadata": {
    "collapsed": true
   },
   "outputs": [],
   "source": [
    "import pandas as pd\n",
    "import numpy as np\n",
    "import pickle\n",
    "import matplotlib.pyplot as plt\n",
    "from sklearn.ensemble import ExtraTreesClassifier\n",
    "from sklearn.feature_selection import SelectFromModel\n",
    "from sklearn.tree import DecisionTreeClassifier\n",
    "from sklearn.ensemble import RandomForestClassifier, GradientBoostingClassifier, AdaBoostClassifier\n",
    "from sklearn.naive_bayes import GaussianNB\n",
    "from sklearn import svm\n",
    "from sklearn.model_selection import train_test_split\n",
    "from sklearn.neural_network import MLPClassifier\n",
    "from sklearn.externals import joblib"
   ]
  },
  {
   "cell_type": "code",
   "execution_count": 34,
   "metadata": {
    "collapsed": true
   },
   "outputs": [],
   "source": [
    "data_original = pd.read_csv('../data.csv', sep='|')\n",
    "dasmalwerk = pd.read_csv('../dasmalwerk_data.csv', sep='|')\n",
    "frames = [data_original, dasmalwerk]\n",
    "result = pd.concat(frames)"
   ]
  },
  {
   "cell_type": "code",
   "execution_count": 37,
   "metadata": {},
   "outputs": [
    {
     "name": "stdout",
     "output_type": "stream",
     "text": [
      "1. Machine (0.150244)\n",
      "2. DllCharacteristics (0.122141)\n",
      "3. Characteristics (0.117218)\n",
      "4. MajorSubsystemVersion (0.105386)\n",
      "5. VersionInformationSize (0.089653)\n",
      "6. SectionsMaxEntropy (0.049912)\n",
      "7. ImageBase (0.048136)\n",
      "8. SizeOfOptionalHeader (0.042229)\n",
      "9. ResourcesMaxEntropy (0.037290)\n",
      "10. MinorOperatingSystemVersion (0.034946)\n",
      "11. SectionsMeanEntropy (0.020949)\n",
      "12. Subsystem (0.020460)\n"
     ]
    }
   ],
   "source": [
    "#separate labels\n",
    "X = result.drop(['Name', 'md5', 'legitimate'], axis=1).values\n",
    "y = result['legitimate'].values\n",
    "\n",
    "#feature reduction\n",
    "fsel = ExtraTreesClassifier().fit(X, y)\n",
    "model = SelectFromModel(fsel, prefit=True)\n",
    "\n",
    "X_new = model.transform(X)\n",
    "nb_features = X_new.shape[1]\n",
    "indices = np.argsort(fsel.feature_importances_)[::-1][:nb_features]\n",
    "std = np.std([tree.feature_importances_ for tree in fsel.estimators_], axis=0)\n",
    "for f in range(nb_features):\n",
    "    print(\"%d. %s (%f)\" % (f + 1, result.columns[2+indices[f]], fsel.feature_importances_[indices[f]]))"
   ]
  },
  {
   "cell_type": "code",
   "execution_count": 38,
   "metadata": {},
   "outputs": [
    {
     "data": {
      "text/plain": [
       "array([  1.14427109e-01,   6.95043393e-02,   1.54300138e-01,\n",
       "         1.25956175e-02,   3.41290522e-02,   2.68072982e-04,\n",
       "         2.65252818e-04,   1.35497300e-02,   1.46449932e-03,\n",
       "         3.02982324e-04,   2.29691610e-04,   5.46887563e-02,\n",
       "         4.23040311e-03,   1.60954843e-02,   5.53632832e-03,\n",
       "         3.01536805e-02,   2.21680760e-02,   7.57608349e-04,\n",
       "         1.43550223e-01,   4.62182855e-03,   1.79342358e-04,\n",
       "         9.50447287e-03,   5.51403595e-03,   1.58545682e-02,\n",
       "         1.77246364e-01,   1.72899554e-03,   1.07659043e-03,\n",
       "         4.54038455e-03,   5.68775392e-04,   1.87133245e-05,\n",
       "         5.46168890e-05,   2.03061447e-02,   3.98527244e-02,\n",
       "         8.72370442e-03,   9.16238188e-02,   2.80865096e-03,\n",
       "         3.50382920e-04,   1.39071202e-04,   1.89943992e-03,\n",
       "         4.98301572e-04,   5.15947542e-04,   1.02875960e-02,\n",
       "         6.10637944e-03,   5.13108086e-04,   6.07639847e-04,\n",
       "         1.03128994e-03,   4.57318501e-03,   9.81133458e-03,\n",
       "         7.01083646e-02,   2.49636368e-04,   1.38283867e-03,\n",
       "         1.81008785e-04,   2.85344497e-03,   1.17589761e-01])"
      ]
     },
     "execution_count": 38,
     "metadata": {},
     "output_type": "execute_result"
    }
   ],
   "source": [
    "std"
   ]
  },
  {
   "cell_type": "code",
   "execution_count": 39,
   "metadata": {},
   "outputs": [
    {
     "data": {
      "image/png": "[encoded data removed]",
      "text/plain": [
       "<matplotlib.figure.Figure at 0x7f6240bdb250>"
      ]
     },
     "metadata": {},
     "output_type": "display_data"
    }
   ],
   "source": [
    "# Plot the feature importances of the forest\n",
    "%matplotlib inline\n",
    "plt.figure()\n",
    "plt.title(\"Feature importances\")\n",
    "plt.bar(range(nb_features), fsel.feature_importances_[indices],\n",
    "       color=\"r\", yerr=std[indices], align=\"center\")\n",
    "plt.xticks(range(nb_features), indices)\n",
    "plt.xlim([-1,nb_features])\n",
    "plt.show()"
   ]
  },
  {
   "cell_type": "code",
   "execution_count": 40,
   "metadata": {
    "collapsed": true
   },
   "outputs": [],
   "source": [
    "algorithms = {\n",
    "        \"DecisionTree\": DecisionTreeClassifier(max_depth=10),\n",
    "        \"RandomForest\": RandomForestClassifier(n_estimators=50),\n",
    "        \"GradientBoosting\": GradientBoostingClassifier(n_estimators=50),\n",
    "        \"AdaBoost\": AdaBoostClassifier(n_estimators=100),\n",
    "        \"GNB\": GaussianNB(),\n",
    "        \"MLP\": MLPClassifier(hidden_layer_sizes=(12,12,12,12,12,12)),\n",
    "        \"SVM\": svm.SVC(C=1.0, cache_size=200, class_weight=None, coef0=0.0,\n",
    "    decision_function_shape='ovr', degree=3, gamma='auto', kernel='rbf',\n",
    "    max_iter=-1, probability=False, random_state=None, shrinking=True,\n",
    "    tol=0.001, verbose=False)\n",
    "    }"
   ]
  },
  {
   "cell_type": "code",
   "execution_count": 41,
   "metadata": {},
   "outputs": [
    {
     "data": {
      "text/plain": [
       "['Machine',\n",
       " 'SizeOfOptionalHeader',\n",
       " 'Characteristics',\n",
       " 'ImageBase',\n",
       " 'MinorOperatingSystemVersion',\n",
       " 'MajorSubsystemVersion',\n",
       " 'Subsystem',\n",
       " 'DllCharacteristics',\n",
       " 'SectionsMeanEntropy',\n",
       " 'SectionsMaxEntropy',\n",
       " 'ResourcesMaxEntropy',\n",
       " 'VersionInformationSize']"
      ]
     },
     "execution_count": 41,
     "metadata": {},
     "output_type": "execute_result"
    }
   ],
   "source": [
    "features = []\n",
    "for f in sorted(np.argsort(fsel.feature_importances_)[::-1][:nb_features]):\n",
    "    features.append(result.columns[2+f])\n",
    "features"
   ]
  },
  {
   "cell_type": "code",
   "execution_count": 42,
   "metadata": {},
   "outputs": [
    {
     "name": "stdout",
     "output_type": "stream",
     "text": [
      "\n",
      "Now testing algorithms\n",
      "SVM : 98.476311 %\n",
      "RandomForest : 99.298528 %\n",
      "MLP : 29.346826 %\n",
      "GradientBoosting : 98.786799 %\n",
      "GNB : 70.624425 %\n",
      "DecisionTree : 98.867295 %\n",
      "AdaBoost : 98.398689 %\n",
      "\n",
      "Winner algorithm is RandomForest with a 99.298528 % success\n"
     ]
    }
   ],
   "source": [
    "results = {}\n",
    "X_train, X_test, y_train, y_test = train_test_split(X_new, y ,test_size=0.25)\n",
    "print(\"\\nNow testing algorithms\")\n",
    "for algo in algorithms:\n",
    "    clf = algorithms[algo]\n",
    "    clf.fit(X_train, y_train)\n",
    "    score = clf.score(X_test, y_test)\n",
    "    print(\"%s : %f %%\" % (algo, score*100))\n",
    "    results[algo] = score\n",
    "\n",
    "winner = max(results, key=results.get)\n",
    "print('\\nWinner algorithm is %s with a %f %% success' % (winner, results[winner]*100))"
   ]
  },
  {
   "cell_type": "code",
   "execution_count": 25,
   "metadata": {
    "collapsed": true
   },
   "outputs": [],
   "source": [
    "joblib.dump(algorithms[winner], '../models/' + winner + '.pkl')\n",
    "open('../models/features.pkl', 'w').write(pickle.dumps(features))"
   ]
  },
  {
   "cell_type": "code",
   "execution_count": null,
   "metadata": {
    "collapsed": true
   },
   "outputs": [],
   "source": []
  }
 ],
 "metadata": {
  "kernelspec": {
   "display_name": "Python 2",
   "language": "python",
   "name": "python2"
  },
  "language_info": {
   "codemirror_mode": {
    "name": "ipython",
    "version": 2
   },
   "file_extension": ".py",
   "mimetype": "text/x-python",
   "name": "python",
   "nbconvert_exporter": "python",
   "pygments_lexer": "ipython2",
   "version": "2.7.10"
  }
 },
 "nbformat": 4,
 "nbformat_minor": 2
}
