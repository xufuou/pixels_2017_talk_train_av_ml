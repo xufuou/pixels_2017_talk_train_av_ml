{
 "cells": [
  {
   "cell_type": "code",
   "execution_count": 20,
   "metadata": {
    "collapsed": true
   },
   "outputs": [],
   "source": [
    "import pandas as pd\n",
    "import numpy as np\n",
    "import pickle\n",
    "import matplotlib.pyplot as plt\n",
    "from sklearn.ensemble import ExtraTreesClassifier\n",
    "from sklearn.feature_selection import SelectFromModel\n",
    "from sklearn.tree import DecisionTreeClassifier\n",
    "from sklearn.ensemble import RandomForestClassifier, GradientBoostingClassifier, AdaBoostClassifier\n",
    "from sklearn.naive_bayes import GaussianNB\n",
    "from sklearn.model_selection import train_test_split\n",
    "from sklearn.neural_network import MLPClassifier\n",
    "from sklearn.externals import joblib"
   ]
  },
  {
   "cell_type": "code",
   "execution_count": 13,
   "metadata": {
    "collapsed": true
   },
   "outputs": [],
   "source": [
    "data_original = pd.read_csv('../data.csv', sep='|')\n",
    "dasmalwerk = pd.read_csv('../dasmalwerk_data.csv', sep='|')\n",
    "frames = [data_original, dasmalwerk]\n",
    "result = pd.concat(frames)"
   ]
  },
  {
   "cell_type": "code",
   "execution_count": 14,
   "metadata": {},
   "outputs": [
    {
     "name": "stdout",
     "output_type": "stream",
     "text": [
      "1. feature DllCharacteristics (0.129779)\n",
      "2. feature Subsystem (0.094593)\n",
      "3. feature SectionsMaxEntropy (0.084348)\n",
      "4. feature Characteristics (0.080166)\n",
      "5. feature VersionInformationSize (0.077115)\n",
      "6. feature Machine (0.077054)\n",
      "7. feature ResourcesMinEntropy (0.069350)\n",
      "8. feature ImageBase (0.057220)\n",
      "9. feature MajorSubsystemVersion (0.050587)\n",
      "10. feature ResourcesMinSize (0.030760)\n",
      "11. feature SectionsMeanEntropy (0.028346)\n",
      "12. feature ResourcesMaxEntropy (0.026951)\n",
      "13. feature SizeOfOptionalHeader (0.026789)\n"
     ]
    }
   ],
   "source": [
    "#separate labels\n",
    "X = result.drop(['Name', 'md5', 'legitimate'], axis=1).values\n",
    "y = result['legitimate'].values\n",
    "\n",
    "#feature reduction\n",
    "fsel = ExtraTreesClassifier().fit(X, y)\n",
    "model = SelectFromModel(fsel, prefit=True)\n",
    "\n",
    "X_new = model.transform(X)\n",
    "nb_features = X_new.shape[1]\n",
    "indices = np.argsort(fsel.feature_importances_)[::-1][:nb_features]\n",
    "std = np.std([tree.feature_importances_ for tree in fsel.estimators_], axis=0)\n",
    "for f in range(nb_features):\n",
    "    print(\"%d. feature %s (%f)\" % (f + 1, result.columns[2+indices[f]], fsel.feature_importances_[indices[f]]))"
   ]
  },
  {
   "cell_type": "code",
   "execution_count": 15,
   "metadata": {},
   "outputs": [
    {
     "data": {
      "text/plain": [
       "array([  9.49471188e-02,   3.60341212e-02,   1.02905002e-01,\n",
       "         6.47321046e-03,   1.35438912e-02,   1.47533552e-03,\n",
       "         3.49259649e-04,   3.98598370e-03,   6.10995290e-03,\n",
       "         6.17922648e-04,   5.41683623e-04,   5.85816727e-02,\n",
       "         7.52994701e-03,   3.52935124e-03,   1.88813591e-02,\n",
       "         1.76864449e-02,   1.25013777e-02,   1.62094756e-03,\n",
       "         3.34174258e-02,   2.49353248e-03,   1.24772929e-04,\n",
       "         3.11326970e-03,   1.16398545e-02,   1.26987015e-01,\n",
       "         1.40332287e-01,   7.81274649e-03,   2.01718214e-03,\n",
       "         2.32907781e-04,   2.37422272e-04,   3.75913479e-05,\n",
       "         7.48518006e-05,   5.41586173e-03,   5.08358157e-02,\n",
       "         3.08477903e-02,   1.27862267e-01,   2.04379377e-03,\n",
       "         6.06393299e-04,   2.63467530e-04,   1.90180368e-04,\n",
       "         2.09321481e-03,   1.99750974e-04,   3.20682944e-03,\n",
       "         3.44372138e-03,   5.44854678e-04,   1.56670881e-03,\n",
       "         2.17776464e-03,   1.24383845e-02,   1.13136817e-01,\n",
       "         5.56857303e-02,   2.57917961e-04,   7.15054035e-02,\n",
       "         6.65155379e-04,   3.80217621e-03,   1.01170825e-01])"
      ]
     },
     "execution_count": 15,
     "metadata": {},
     "output_type": "execute_result"
    }
   ],
   "source": [
    "std"
   ]
  },
  {
   "cell_type": "code",
   "execution_count": 16,
   "metadata": {},
   "outputs": [
    {
     "data": {
      "image/png": "[encoded data removed]",
      "text/plain": [
       "<matplotlib.figure.Figure at 0x7f6241bee490>"
      ]
     },
     "metadata": {},
     "output_type": "display_data"
    }
   ],
   "source": [
    "# Plot the feature importances of the forest\n",
    "%matplotlib inline\n",
    "plt.figure()\n",
    "plt.title(\"Feature importances\")\n",
    "plt.bar(range(nb_features), fsel.feature_importances_[indices],\n",
    "       color=\"r\", yerr=std[indices], align=\"center\")\n",
    "plt.xticks(range(nb_features), indices)\n",
    "plt.xlim([-1,nb_features])\n",
    "plt.show()"
   ]
  },
  {
   "cell_type": "code",
   "execution_count": 17,
   "metadata": {
    "collapsed": true
   },
   "outputs": [],
   "source": [
    "algorithms = {\n",
    "        \"DecisionTree\": DecisionTreeClassifier(max_depth=10),\n",
    "        \"RandomForest\": RandomForestClassifier(n_estimators=50),\n",
    "        \"GradientBoosting\": GradientBoostingClassifier(n_estimators=50),\n",
    "        \"AdaBoost\": AdaBoostClassifier(n_estimators=100),\n",
    "        \"GNB\": GaussianNB(),\n",
    "        \"MLP\": MLPClassifier(hidden_layer_sizes=(12,12,12,12,12,12))\n",
    "    }"
   ]
  },
  {
   "cell_type": "code",
   "execution_count": 24,
   "metadata": {},
   "outputs": [
    {
     "data": {
      "text/plain": [
       "['Machine',\n",
       " 'SizeOfOptionalHeader',\n",
       " 'Characteristics',\n",
       " 'ImageBase',\n",
       " 'MajorSubsystemVersion',\n",
       " 'Subsystem',\n",
       " 'DllCharacteristics',\n",
       " 'SectionsMeanEntropy',\n",
       " 'SectionsMaxEntropy',\n",
       " 'ResourcesMinEntropy',\n",
       " 'ResourcesMaxEntropy',\n",
       " 'ResourcesMinSize',\n",
       " 'VersionInformationSize']"
      ]
     },
     "execution_count": 24,
     "metadata": {},
     "output_type": "execute_result"
    }
   ],
   "source": [
    "features = []\n",
    "for f in sorted(np.argsort(fsel.feature_importances_)[::-1][:nb_features]):\n",
    "    features.append(result.columns[2+f])\n",
    "features"
   ]
  },
  {
   "cell_type": "code",
   "execution_count": 18,
   "metadata": {},
   "outputs": [
    {
     "name": "stdout",
     "output_type": "stream",
     "text": [
      "\n",
      "Now testing algorithms\n",
      "RandomForest : 99.373275 %\n",
      "MLP : 30.005175 %\n",
      "GradientBoosting : 98.844296 %\n",
      "GNB : 69.994825 %\n",
      "DecisionTree : 98.993790 %\n",
      "AdaBoost : 98.473436 %\n",
      "\n",
      "Winner algorithm is RandomForest with a 99.373275 % success\n"
     ]
    }
   ],
   "source": [
    "results = {}\n",
    "X_train, X_test, y_train, y_test = train_test_split(X_new, y ,test_size=0.25)\n",
    "print(\"\\nNow testing algorithms\")\n",
    "for algo in algorithms:\n",
    "    clf = algorithms[algo]\n",
    "    clf.fit(X_train, y_train)\n",
    "    score = clf.score(X_test, y_test)\n",
    "    print(\"%s : %f %%\" % (algo, score*100))\n",
    "    results[algo] = score\n",
    "\n",
    "winner = max(results, key=results.get)\n",
    "print('\\nWinner algorithm is %s with a %f %% success' % (winner, results[winner]*100))"
   ]
  },
  {
   "cell_type": "code",
   "execution_count": 25,
   "metadata": {},
   "outputs": [],
   "source": [
    "joblib.dump(algorithms[winner], '../models/' + winner + '.pkl')\n",
    "open('../models/features.pkl', 'w').write(pickle.dumps(features))"
   ]
  },
  {
   "cell_type": "code",
   "execution_count": null,
   "metadata": {
    "collapsed": true
   },
   "outputs": [],
   "source": []
  }
 ],
 "metadata": {
  "kernelspec": {
   "display_name": "Python 2",
   "language": "python",
   "name": "python2"
  },
  "language_info": {
   "codemirror_mode": {
    "name": "ipython",
    "version": 2
   },
   "file_extension": ".py",
   "mimetype": "text/x-python",
   "name": "python",
   "nbconvert_exporter": "python",
   "pygments_lexer": "ipython2",
   "version": "2.7.12"
  }
 },
 "nbformat": 4,
 "nbformat_minor": 2
}
